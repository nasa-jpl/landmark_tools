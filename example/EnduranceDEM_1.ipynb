{
 "cells": [
  {
   "cell_type": "markdown",
   "id": "be88d4a8-0b46-4439-93cf-8941f5c57318",
   "metadata": {},
   "source": [
    "# Demo : Lunar Data\n",
    "\n",
    "This is a walkthough of how to run the landmark tools for an example data set. All functions are also documented on the [Run](RUN.md) page. \n",
    "\n",
    "You can run this demo as a [jupyter notebook](https://docs.jupyter.org/en/latest/running.html). \n",
    "\n",
    "## Initialize the notebook environment\n",
    "\n",
    "Edit the `BUILD_DIR` path to reflect your build directory. `\"../build/Release/\"` is the default for Xcode. If you are using cmake and you followed my setup instructions, your build directory is `\"../build/\"`"
   ]
  },
  {
   "cell_type": "markdown",
   "id": "780cc410",
   "metadata": {},
   "source": [
    "Questions to ask:\n",
    "1. Couldn't open the https://pgda.gsfc.nasa.gov website? Where can I get some sample data?\n",
    "2. I want to generate a .tif file for Ortho image - Do I need to refer to both MoonDemo and Rendering or just one of them: \n",
    "    a. Is my understanding correct that I should switch to dem.tif ---> .lmk ---> .ply ---> .png?\n",
    "    b. Can I generate a .tif file as well or just .png?\n",
    "    c. If only .png possible, what can I assume about the meta data for the Ortho generated? \n",
    "3. How do I decide on the parameters in this command?\n",
    "    !$BUILD_DIR/create_landmark \\\n",
    "        -geotif_file Haworth_final_adj_5mpp_surf.tif \\\n",
    "        -lmk_file output/moon/Haworth_final_adj_5mpp_surf_tif.lmk \\\n",
    "        -lmk_width_meters 10000 \\\n",
    "        -lmk_height_meters 10000 \\\n",
    "        -lmk_res 10 \\\n",
    "        -lmk_center_lat -86.8 \\\n",
    "        -lmk_center_long 338.0  \n",
    "    a. How do I resolve this error? Projection type Orthographic is not supportedmain() ==>> malloc() failed, /home/sriramyab/endurance_others/landmark_tools/src/main/create_landmark_main.c, 231\n",
    "4. It seems like these are the relevant command for me -\n",
    "    a. I should still set LOCAL right?\n",
    "        !$BUILD_DIR/landmark_2_point \\\n",
    "        -landmark output/moon/Haworth_final_adj_5mpp_surf_10km.lmk \\\n",
    "        -ply output/render/Haworth_final_adj_5mpp_surf_10km.ply \\\n",
    "        -frame LOCAL\n",
    "    b. Shouldn't height and width be set automatically based on DEM size and desired output resolution?\n",
    "        !python $PYTHON_SCRIPT_DIR/render_ply.py \\\n",
    "            output/render/Haworth_final_adj_5mpp_surf_10km.ply \\Projection\n",
    "            -width 1000 \\\n",
    "            -resolution 10\n",
    "5. I want to be able to sample across combinations of elevation=[0, 45, 90] and azimuth=[0, 90, 180, 270, 360] for sun angles - can I do this by using the same .ply and just changing the last render_ply command?\n"
   ]
  },
  {
   "cell_type": "code",
   "execution_count": 1,
   "id": "7188434a-e476-421b-b4e6-05b609f60502",
   "metadata": {},
   "outputs": [
    {
     "name": "stdout",
     "output_type": "stream",
     "text": [
      "../build/\n",
      "../scripts/python/landmark_tools/\n"
     ]
    }
   ],
   "source": [
    "BUILD_DIR=\"../build/\"\n",
    "!echo $BUILD_DIR\n",
    "\n",
    "PYTHON_SCRIPT_DIR=\"../scripts/python/landmark_tools/\"\n",
    "!echo $PYTHON_SCRIPT_DIR\n",
    "\n",
    "!rm -r output/moon\n",
    "!mkdir -p output/moon"
   ]
  },
  {
   "cell_type": "code",
   "execution_count": 2,
   "id": "65ad1603",
   "metadata": {},
   "outputs": [],
   "source": [
    "import matplotlib.pyplot as plt\n",
    "import numpy as np\n",
    "from PIL import Image\n",
    "\n",
    "# This sys call is needed because the file is in another directory \n",
    "import sys\n",
    "sys.path.insert(1, '../scripts/python/landmark_tools')\n",
    "import visualize_corr\n",
    "import landmark\n",
    "\n",
    "plt.rcParams['figure.figsize'] = [8, 3]"
   ]
  },
  {
   "cell_type": "code",
   "execution_count": 3,
   "id": "cbcfa6e4",
   "metadata": {},
   "outputs": [
    {
     "name": "stdout",
     "output_type": "stream",
     "text": [
      "reaching here -9\n",
      "reaching here -1\n",
      "reaching here -2\n",
      "Orthographic Projection Detected\n",
      "reaching here -3\n",
      "reaching here -4\n",
      "reaching here -688\n",
      "Data type: 7, Float64 1\n",
      "reaching here-14reaching hereoffset and scale 0.000000, 1.000000 \n",
      "reaching here -8\n",
      "reaching here -7\n",
      "Creating landmark with empty surface reflectance map.\n",
      "-0.651785963564788 -0.758402965249953  0.000000000000000\n",
      "-0.732632631006868  0.629638447127976  0.258466349612914\n",
      "-0.196021645963765  0.168464738731526 -0.966020261753228\n",
      "reaching here -6\n"
     ]
    }
   ],
   "source": [
    "!$BUILD_DIR/create_landmark \\\n",
    "    -geotif_file Endurance_DTM_R3_1.tif \\\n",
    "    -lmk_file output/moon/Endurance_DTM_R3_1_tif.lmk \\\n",
    "    -lmk_width_meters 100 \\\n",
    "    -lmk_height_meters 100 \\\n",
    "    -lmk_res 1 \\\n",
    "    -lmk_center_lat -75.02092306 \\\n",
    "    -lmk_center_long 139.32360162"
   ]
  },
  {
   "cell_type": "code",
   "execution_count": 4,
   "id": "6ccc9774",
   "metadata": {},
   "outputs": [
    {
     "name": "stdout",
     "output_type": "stream",
     "text": [
      "                 #! LVS Map v3.0\n",
      "Landmark file saved at output/render/Endurance_DTM_R3_1_tif.ply\n"
     ]
    }
   ],
   "source": [
    "!$BUILD_DIR/landmark_2_point \\\n",
    "        -landmark output/moon/Endurance_DTM_R3_1_tif.lmk \\\n",
    "        -ply output/render/Endurance_DTM_R3_1_tif.ply \\\n",
    "        -frame LOCAL"
   ]
  },
  {
   "cell_type": "code",
   "execution_count": null,
   "id": "295f9d9f",
   "metadata": {},
   "outputs": [
    {
     "ename": "FileNotFoundError",
     "evalue": "[Errno 2] No such file or directory: 'output/render/Endurance_DTM_R3_1_tif.lmk'",
     "output_type": "error",
     "traceback": [
      "\u001b[31m---------------------------------------------------------------------------\u001b[39m",
      "\u001b[31mFileNotFoundError\u001b[39m                         Traceback (most recent call last)",
      "\u001b[36mCell\u001b[39m\u001b[36m \u001b[39m\u001b[32mIn[7]\u001b[39m\u001b[32m, line 1\u001b[39m\n\u001b[32m----> \u001b[39m\u001b[32m1\u001b[39m L = \u001b[43mlandmark\u001b[49m\u001b[43m.\u001b[49m\u001b[43mLandmark\u001b[49m\u001b[43m(\u001b[49m\u001b[33;43m\"\u001b[39;49m\u001b[33;43moutput/render/Endurance_DTM_R3_1_tif.lmk\u001b[39;49m\u001b[33;43m\"\u001b[39;49m\u001b[43m)\u001b[49m\n\u001b[32m      3\u001b[39m plt.subplot(\u001b[32m1\u001b[39m,\u001b[32m5\u001b[39m,(\u001b[32m1\u001b[39m,\u001b[32m2\u001b[39m))\n\u001b[32m      4\u001b[39m plt.imshow(L.ele, cmap=\u001b[33m'\u001b[39m\u001b[33mterrain\u001b[39m\u001b[33m'\u001b[39m)\n",
      "\u001b[36mFile \u001b[39m\u001b[32m~/endurance_others/landmark_tools/example/../scripts/python/landmark_tools/landmark.py:87\u001b[39m, in \u001b[36mLandmark.__init__\u001b[39m\u001b[34m(self, lmk_file)\u001b[39m\n\u001b[32m     86\u001b[39m \u001b[38;5;28;01mdef\u001b[39;00m\u001b[38;5;250m \u001b[39m\u001b[34m__init__\u001b[39m(\u001b[38;5;28mself\u001b[39m, lmk_file):\n\u001b[32m---> \u001b[39m\u001b[32m87\u001b[39m     \u001b[38;5;28;01mwith\u001b[39;00m \u001b[38;5;28;43mopen\u001b[39;49m\u001b[43m(\u001b[49m\u001b[43mlmk_file\u001b[49m\u001b[43m,\u001b[49m\u001b[43m \u001b[49m\u001b[33;43m'\u001b[39;49m\u001b[33;43mrb\u001b[39;49m\u001b[33;43m'\u001b[39;49m\u001b[43m)\u001b[49m \u001b[38;5;28;01mas\u001b[39;00m fp:\n\u001b[32m     88\u001b[39m         file_data = fp.read()\n\u001b[32m     90\u001b[39m     \u001b[38;5;66;03m# Comment field not read into memory \u001b[39;00m\n\u001b[32m     91\u001b[39m     \u001b[38;5;66;03m# Skip first 32 chars\u001b[39;00m\n",
      "\u001b[31mFileNotFoundError\u001b[39m: [Errno 2] No such file or directory: 'output/render/Endurance_DTM_R3_1_tif.lmk'"
     ]
    }
   ],
   "source": [
    "L = landmark.Landmark(\"output/moon/Endurance_DTM_R3_1_tif.lmk\")\n",
    "\n",
    "plt.subplot(1,5,(1,2))\n",
    "plt.imshow(L.ele, cmap='terrain')\n",
    "plt.colorbar()\n",
    "plt.title(\"Elevation\")\n",
    "\n",
    "plt.subplot(1,5,(4,5))\n",
    "plt.imshow(L.srm, cmap='gray')\n",
    "plt.title(\"Surface Reflectance\")"
   ]
  },
  {
   "cell_type": "code",
   "execution_count": 5,
   "id": "e793186b",
   "metadata": {},
   "outputs": [
    {
     "name": "stdout",
     "output_type": "stream",
     "text": [
      "PLY import of 'Endurance_DTM_R3_1_tif.ply' took 5.89 ms\n",
      "Fra:1 Mem:13.05M (Peak 13.05M) | Time:00:00.00 | Mem:0.00M, Peak:0.00M | Scene, ViewLayer | Synchronizing object | Endurance_DTM_R3_1_tif\n",
      "Fra:1 Mem:14.55M (Peak 14.55M) | Time:00:00.00 | Mem:0.00M, Peak:0.00M | Scene, ViewLayer | Initializing\n",
      "Fra:1 Mem:14.42M (Peak 14.55M) | Time:00:00.00 | Mem:0.00M, Peak:0.00M | Scene, ViewLayer | Waiting for render to start\n",
      "Fra:1 Mem:14.42M (Peak 14.55M) | Time:00:00.00 | Mem:0.00M, Peak:0.00M | Scene, ViewLayer | Loading render kernels (may take a few minutes the first time)\n",
      "Fra:1 Mem:14.42M (Peak 14.55M) | Time:00:00.00 | Mem:0.00M, Peak:0.00M | Scene, ViewLayer | Updating Scene\n",
      "Fra:1 Mem:14.42M (Peak 14.55M) | Time:00:00.00 | Mem:0.00M, Peak:0.00M | Scene, ViewLayer | Updating Shaders\n",
      "Fra:1 Mem:14.50M (Peak 14.55M) | Time:00:00.00 | Mem:0.00M, Peak:0.00M | Scene, ViewLayer | Updating Procedurals\n",
      "Fra:1 Mem:14.50M (Peak 14.55M) | Time:00:00.00 | Mem:0.00M, Peak:0.00M | Scene, ViewLayer | Updating Background\n",
      "Fra:1 Mem:14.50M (Peak 14.55M) | Time:00:00.00 | Mem:0.00M, Peak:0.00M | Scene, ViewLayer | Updating Camera\n",
      "Fra:1 Mem:14.50M (Peak 14.55M) | Time:00:00.00 | Mem:0.00M, Peak:0.00M | Scene, ViewLayer | Updating Meshes Flags\n",
      "Fra:1 Mem:14.50M (Peak 14.55M) | Time:00:00.00 | Mem:0.00M, Peak:0.00M | Scene, ViewLayer | Updating Objects\n",
      "Fra:1 Mem:14.50M (Peak 14.55M) | Time:00:00.00 | Mem:0.00M, Peak:0.00M | Scene, ViewLayer | Updating Objects | Copying Transformations to device\n",
      "Fra:1 Mem:14.50M (Peak 14.55M) | Time:00:00.00 | Mem:0.00M, Peak:0.00M | Scene, ViewLayer | Updating Objects | Applying Static Transformations\n",
      "Fra:1 Mem:14.50M (Peak 14.55M) | Time:00:00.00 | Mem:0.00M, Peak:0.00M | Scene, ViewLayer | Updating Particle Systems\n",
      "Fra:1 Mem:14.50M (Peak 14.55M) | Time:00:00.00 | Mem:0.00M, Peak:0.00M | Scene, ViewLayer | Updating Particle Systems | Copying Particles to device\n",
      "Fra:1 Mem:14.50M (Peak 14.55M) | Time:00:00.00 | Mem:0.00M, Peak:0.00M | Scene, ViewLayer | Updating Meshes\n",
      "Fra:1 Mem:14.80M (Peak 14.80M) | Time:00:00.00 | Mem:0.00M, Peak:0.00M | Scene, ViewLayer | Updating Mesh | Computing attributes\n",
      "Fra:1 Mem:14.80M (Peak 14.80M) | Time:00:00.00 | Mem:0.00M, Peak:0.00M | Scene, ViewLayer | Updating Mesh | Copying Attributes to device\n",
      "Fra:1 Mem:14.80M (Peak 14.80M) | Time:00:00.00 | Mem:0.00M, Peak:0.00M | Scene, ViewLayer | Updating Scene BVH | Building\n",
      "Fra:1 Mem:14.80M (Peak 14.80M) | Time:00:00.00 | Mem:0.00M, Peak:0.00M | Scene, ViewLayer | Updating Scene BVH | Building BVH\n",
      "Fra:1 Mem:14.80M (Peak 14.80M) | Time:00:00.00 | Mem:0.59M, Peak:0.59M | Scene, ViewLayer | Updating Scene BVH | Building BVH 0%\n",
      "Fra:1 Mem:14.80M (Peak 14.80M) | Time:00:00.01 | Mem:1.24M, Peak:1.83M | Scene, ViewLayer | Updating Scene BVH | Copying BVH to device\n",
      "Fra:1 Mem:14.80M (Peak 14.80M) | Time:00:00.01 | Mem:1.24M, Peak:1.83M | Scene, ViewLayer | Updating Mesh | Computing normals\n",
      "Fra:1 Mem:15.47M (Peak 15.47M) | Time:00:00.01 | Mem:1.24M, Peak:1.83M | Scene, ViewLayer | Updating Mesh | Copying Mesh to device\n",
      "Fra:1 Mem:15.47M (Peak 15.47M) | Time:00:00.01 | Mem:1.91M, Peak:1.91M | Scene, ViewLayer | Updating Objects Flags\n",
      "Fra:1 Mem:15.47M (Peak 15.47M) | Time:00:00.01 | Mem:1.91M, Peak:1.91M | Scene, ViewLayer | Updating Primitive Offsets\n",
      "Fra:1 Mem:15.47M (Peak 15.47M) | Time:00:00.01 | Mem:1.91M, Peak:1.91M | Scene, ViewLayer | Updating Images\n",
      "Fra:1 Mem:15.47M (Peak 15.47M) | Time:00:00.01 | Mem:1.91M, Peak:1.91M | Scene, ViewLayer | Updating Camera Volume\n",
      "Fra:1 Mem:15.47M (Peak 15.47M) | Time:00:00.01 | Mem:1.91M, Peak:1.91M | Scene, ViewLayer | Updating Lookup Tables\n",
      "Fra:1 Mem:15.47M (Peak 15.47M) | Time:00:00.01 | Mem:1.99M, Peak:1.99M | Scene, ViewLayer | Updating Lights\n",
      "Fra:1 Mem:15.47M (Peak 15.47M) | Time:00:00.01 | Mem:1.99M, Peak:1.99M | Scene, ViewLayer | Updating Lights | Computing tree\n",
      "Fra:1 Mem:15.47M (Peak 15.47M) | Time:00:00.01 | Mem:2.00M, Peak:2.00M | Scene, ViewLayer | Updating Integrator\n",
      "Fra:1 Mem:15.47M (Peak 15.47M) | Time:00:00.01 | Mem:2.00M, Peak:2.00M | Scene, ViewLayer | Updating Film\n",
      "Fra:1 Mem:15.47M (Peak 15.47M) | Time:00:00.01 | Mem:1.91M, Peak:2.00M | Scene, ViewLayer | Updating Lookup Tables\n",
      "Fra:1 Mem:15.47M (Peak 15.47M) | Time:00:00.01 | Mem:2.00M, Peak:2.00M | Scene, ViewLayer | Updating Baking\n",
      "Fra:1 Mem:15.47M (Peak 15.47M) | Time:00:00.01 | Mem:2.00M, Peak:2.00M | Scene, ViewLayer | Updating Device | Writing constant memory\n",
      "Fra:1 Mem:15.47M (Peak 15.47M) | Time:00:00.01 | Mem:2.00M, Peak:2.00M | Scene, ViewLayer | Loading denoising kernels (may take a few minutes the first time)\n",
      "Fra:1 Mem:15.47M (Peak 15.47M) | Time:00:00.01 | Mem:2.00M, Peak:2.00M | Scene, ViewLayer | Sample 0/2048\n",
      "Fra:1 Mem:16.25M (Peak 16.25M) | Time:00:00.01 | Remaining:00:04.08 | Mem:2.72M, Peak:2.72M | Scene, ViewLayer | Sample 1/2048\n",
      "Fra:1 Mem:16.25M (Peak 16.25M) | Time:00:00.12 | Remaining:00:02.68 | Mem:2.72M, Peak:2.72M | Scene, ViewLayer | Sample 80/2048\n",
      "Fra:1 Mem:16.25M (Peak 16.25M) | Time:00:00.12 | Remaining:00:02.24 | Mem:2.72M, Peak:2.72M | Scene, ViewLayer | Sample 96/2048\n",
      "Fra:1 Mem:16.25M (Peak 16.25M) | Time:00:00.12 | Remaining:00:01.93 | Mem:2.72M, Peak:2.72M | Scene, ViewLayer | Sample 112/2048\n",
      "Fra:1 Mem:16.25M (Peak 16.25M) | Time:00:00.12 | Remaining:00:01.70 | Mem:2.72M, Peak:2.72M | Scene, ViewLayer | Sample 128/2048\n",
      "Fra:1 Mem:16.25M (Peak 16.25M) | Time:00:00.12 | Remaining:00:01.51 | Mem:2.72M, Peak:2.72M | Scene, ViewLayer | Sample 144/2048\n",
      "Fra:1 Mem:16.25M (Peak 16.25M) | Time:00:00.12 | Remaining:00:01.36 | Mem:2.72M, Peak:2.72M | Scene, ViewLayer | Sample 160/2048\n",
      "Fra:1 Mem:16.25M (Peak 16.25M) | Time:00:00.12 | Remaining:00:01.24 | Mem:2.72M, Peak:2.72M | Scene, ViewLayer | Sample 176/2048\n",
      "Fra:1 Mem:16.25M (Peak 16.25M) | Time:00:00.12 | Remaining:00:01.14 | Mem:2.72M, Peak:2.72M | Scene, ViewLayer | Sample 192/2048\n",
      "Fra:1 Mem:16.25M (Peak 16.25M) | Time:00:00.12 | Remaining:00:01.05 | Mem:2.72M, Peak:2.72M | Scene, ViewLayer | Sample 208/2048\n",
      "Fra:1 Mem:16.25M (Peak 16.25M) | Time:00:00.13 | Remaining:00:00.97 | Mem:2.72M, Peak:2.72M | Scene, ViewLayer | Sample 224/2048\n",
      "Fra:1 Mem:16.25M (Peak 16.25M) | Time:00:00.13 | Remaining:00:00.90 | Mem:2.72M, Peak:2.72M | Scene, ViewLayer | Sample 240/2048\n",
      "Fra:1 Mem:16.25M (Peak 16.25M) | Time:00:00.13 | Remaining:00:00.84 | Mem:2.72M, Peak:2.72M | Scene, ViewLayer | Sample 256/2048\n",
      "Fra:1 Mem:16.25M (Peak 16.25M) | Time:00:00.13 | Remaining:00:00.79 | Mem:2.72M, Peak:2.72M | Scene, ViewLayer | Sample 272/2048\n",
      "Fra:1 Mem:16.25M (Peak 16.25M) | Time:00:00.13 | Remaining:00:00.74 | Mem:2.72M, Peak:2.72M | Scene, ViewLayer | Sample 288/2048\n",
      "Fra:1 Mem:16.25M (Peak 16.25M) | Time:00:00.13 | Remaining:00:00.70 | Mem:2.72M, Peak:2.72M | Scene, ViewLayer | Sample 304/2048\n",
      "Fra:1 Mem:16.25M (Peak 16.25M) | Time:00:00.13 | Remaining:00:00.66 | Mem:2.72M, Peak:2.72M | Scene, ViewLayer | Sample 320/2048\n",
      "Fra:1 Mem:16.25M (Peak 16.25M) | Time:00:00.13 | Remaining:00:00.63 | Mem:2.72M, Peak:2.72M | Scene, ViewLayer | Sample 336/2048\n",
      "Fra:1 Mem:16.25M (Peak 16.25M) | Time:00:00.13 | Remaining:00:00.60 | Mem:2.72M, Peak:2.72M | Scene, ViewLayer | Sample 352/2048\n",
      "Fra:1 Mem:16.25M (Peak 16.25M) | Time:00:00.13 | Remaining:00:00.57 | Mem:2.72M, Peak:2.72M | Scene, ViewLayer | Sample 368/2048\n",
      "Fra:1 Mem:16.25M (Peak 16.25M) | Time:00:00.13 | Remaining:00:00.54 | Mem:2.72M, Peak:2.72M | Scene, ViewLayer | Sample 384/2048\n",
      "Fra:1 Mem:16.25M (Peak 16.25M) | Time:00:00.13 | Remaining:00:00.52 | Mem:2.72M, Peak:2.72M | Scene, ViewLayer | Sample 400/2048\n",
      "Fra:1 Mem:16.25M (Peak 16.25M) | Time:00:00.13 | Remaining:00:00.49 | Mem:2.72M, Peak:2.72M | Scene, ViewLayer | Sample 416/2048\n",
      "Fra:1 Mem:16.25M (Peak 16.25M) | Time:00:00.13 | Remaining:00:00.47 | Mem:2.72M, Peak:2.72M | Scene, ViewLayer | Sample 432/2048\n",
      "Fra:1 Mem:16.25M (Peak 16.25M) | Time:00:00.13 | Remaining:00:00.45 | Mem:2.72M, Peak:2.72M | Scene, ViewLayer | Sample 448/2048\n",
      "Fra:1 Mem:16.25M (Peak 16.25M) | Time:00:00.13 | Remaining:00:00.43 | Mem:2.72M, Peak:2.72M | Scene, ViewLayer | Sample 464/2048\n",
      "Fra:1 Mem:16.25M (Peak 16.25M) | Time:00:00.13 | Remaining:00:00.42 | Mem:2.72M, Peak:2.72M | Scene, ViewLayer | Sample 480/2048\n",
      "Fra:1 Mem:16.25M (Peak 16.25M) | Time:00:00.14 | Remaining:00:00.40 | Mem:2.72M, Peak:2.72M | Scene, ViewLayer | Sample 496/2048\n",
      "Fra:1 Mem:16.25M (Peak 16.25M) | Time:00:00.14 | Remaining:00:00.38 | Mem:2.72M, Peak:2.72M | Scene, ViewLayer | Sample 512/2048\n",
      "Fra:1 Mem:16.25M (Peak 16.25M) | Time:00:00.14 | Remaining:00:00.37 | Mem:2.72M, Peak:2.72M | Scene, ViewLayer | Sample 528/2048\n",
      "Fra:1 Mem:16.25M (Peak 16.25M) | Time:00:00.14 | Remaining:00:00.36 | Mem:2.72M, Peak:2.72M | Scene, ViewLayer | Sample 544/2048\n",
      "Fra:1 Mem:16.25M (Peak 16.25M) | Time:00:00.14 | Remaining:00:00.34 | Mem:2.72M, Peak:2.72M | Scene, ViewLayer | Sample 560/2048\n",
      "Fra:1 Mem:16.25M (Peak 16.25M) | Time:00:00.14 | Remaining:00:00.34 | Mem:2.72M, Peak:2.72M | Scene, ViewLayer | Sample 576/2048\n",
      "Fra:1 Mem:16.25M (Peak 16.25M) | Time:00:00.14 | Remaining:00:00.32 | Mem:2.72M, Peak:2.72M | Scene, ViewLayer | Sample 592/2048\n",
      "Fra:1 Mem:16.25M (Peak 16.25M) | Time:00:00.14 | Remaining:00:00.31 | Mem:2.72M, Peak:2.72M | Scene, ViewLayer | Sample 608/2048\n",
      "Fra:1 Mem:16.25M (Peak 16.25M) | Time:00:00.14 | Remaining:00:00.30 | Mem:2.72M, Peak:2.72M | Scene, ViewLayer | Sample 624/2048\n",
      "Fra:1 Mem:16.25M (Peak 16.25M) | Time:00:00.14 | Remaining:00:00.29 | Mem:2.72M, Peak:2.72M | Scene, ViewLayer | Sample 640/2048\n",
      "Fra:1 Mem:16.25M (Peak 16.25M) | Time:00:00.14 | Remaining:00:00.28 | Mem:2.72M, Peak:2.72M | Scene, ViewLayer | Sample 656/2048\n",
      "Fra:1 Mem:16.25M (Peak 16.25M) | Time:00:00.14 | Remaining:00:00.27 | Mem:2.72M, Peak:2.72M | Scene, ViewLayer | Sample 672/2048\n",
      "Fra:1 Mem:16.25M (Peak 16.25M) | Time:00:00.14 | Remaining:00:00.27 | Mem:2.72M, Peak:2.72M | Scene, ViewLayer | Sample 688/2048\n",
      "Fra:1 Mem:16.25M (Peak 16.25M) | Time:00:00.14 | Remaining:00:00.26 | Mem:2.72M, Peak:2.72M | Scene, ViewLayer | Sample 704/2048\n",
      "Fra:1 Mem:16.25M (Peak 16.25M) | Time:00:00.14 | Remaining:00:00.25 | Mem:2.72M, Peak:2.72M | Scene, ViewLayer | Sample 720/2048\n",
      "Fra:1 Mem:16.25M (Peak 16.25M) | Time:00:00.14 | Remaining:00:00.24 | Mem:2.72M, Peak:2.72M | Scene, ViewLayer | Sample 736/2048\n",
      "Fra:1 Mem:16.25M (Peak 16.25M) | Time:00:00.14 | Remaining:00:00.23 | Mem:2.72M, Peak:2.72M | Scene, ViewLayer | Sample 752/2048\n",
      "Fra:1 Mem:16.25M (Peak 16.25M) | Time:00:00.15 | Remaining:00:00.23 | Mem:2.72M, Peak:2.72M | Scene, ViewLayer | Sample 768/2048\n",
      "Fra:1 Mem:16.25M (Peak 16.25M) | Time:00:00.15 | Remaining:00:00.22 | Mem:2.72M, Peak:2.72M | Scene, ViewLayer | Sample 784/2048\n",
      "Fra:1 Mem:16.25M (Peak 16.25M) | Time:00:00.15 | Remaining:00:00.21 | Mem:2.72M, Peak:2.72M | Scene, ViewLayer | Sample 800/2048\n",
      "Fra:1 Mem:16.25M (Peak 16.25M) | Time:00:00.15 | Remaining:00:00.21 | Mem:2.72M, Peak:2.72M | Scene, ViewLayer | Sample 816/2048\n",
      "Fra:1 Mem:16.25M (Peak 16.25M) | Time:00:00.15 | Remaining:00:00.20 | Mem:2.72M, Peak:2.72M | Scene, ViewLayer | Sample 832/2048\n",
      "Fra:1 Mem:16.25M (Peak 16.25M) | Time:00:00.15 | Remaining:00:00.20 | Mem:2.72M, Peak:2.72M | Scene, ViewLayer | Sample 848/2048\n",
      "Fra:1 Mem:16.25M (Peak 16.25M) | Time:00:00.15 | Remaining:00:00.19 | Mem:2.72M, Peak:2.72M | Scene, ViewLayer | Sample 864/2048\n",
      "Fra:1 Mem:16.25M (Peak 16.25M) | Time:00:00.15 | Remaining:00:00.18 | Mem:2.72M, Peak:2.72M | Scene, ViewLayer | Sample 880/2048\n",
      "Fra:1 Mem:16.25M (Peak 16.25M) | Time:00:00.15 | Remaining:00:00.18 | Mem:2.72M, Peak:2.72M | Scene, ViewLayer | Sample 896/2048\n",
      "Fra:1 Mem:16.25M (Peak 16.25M) | Time:00:00.15 | Remaining:00:00.17 | Mem:2.72M, Peak:2.72M | Scene, ViewLayer | Sample 912/2048\n",
      "Fra:1 Mem:16.25M (Peak 16.25M) | Time:00:00.15 | Remaining:00:00.17 | Mem:2.72M, Peak:2.72M | Scene, ViewLayer | Sample 928/2048\n",
      "Fra:1 Mem:16.25M (Peak 16.25M) | Time:00:00.15 | Remaining:00:00.16 | Mem:2.72M, Peak:2.72M | Scene, ViewLayer | Sample 944/2048\n",
      "Fra:1 Mem:16.25M (Peak 16.25M) | Time:00:00.15 | Remaining:00:00.16 | Mem:2.72M, Peak:2.72M | Scene, ViewLayer | Sample 960/2048\n",
      "Fra:1 Mem:16.25M (Peak 16.25M) | Time:00:00.15 | Remaining:00:00.15 | Mem:2.72M, Peak:2.72M | Scene, ViewLayer | Sample 976/2048\n",
      "Fra:1 Mem:16.25M (Peak 16.25M) | Time:00:00.15 | Remaining:00:00.15 | Mem:2.72M, Peak:2.72M | Scene, ViewLayer | Sample 992/2048\n",
      "Fra:1 Mem:16.25M (Peak 16.25M) | Time:00:00.15 | Remaining:00:00.14 | Mem:2.72M, Peak:2.72M | Scene, ViewLayer | Sample 1008/2048\n",
      "Fra:1 Mem:16.25M (Peak 16.25M) | Time:00:00.15 | Remaining:00:00.14 | Mem:2.72M, Peak:2.72M | Scene, ViewLayer | Sample 1024/2048\n",
      "Fra:1 Mem:16.25M (Peak 16.25M) | Time:00:00.30 | Remaining:00:00.28 | Mem:2.72M, Peak:2.72M | Scene, ViewLayer | Sample 1040/2048\n",
      "Fra:1 Mem:16.56M (Peak 16.56M) | Time:00:00.42 | Remaining:00:00.40 | Mem:2.72M, Peak:2.72M | Scene, ViewLayer | Sample 0/2048\n",
      "Fra:1 Mem:16.56M (Peak 16.56M) | Time:00:00.42 | Remaining:00:00.40 | Mem:2.72M, Peak:2.72M | Scene, ViewLayer | Finished\n",
      "Saved: 'output/render/Endurance_DTM_R3_1_tif.png'\n",
      "Time: 00:00.58 (Saving: 00:00.15)\n",
      "\n"
     ]
    }
   ],
   "source": [
    "!python $PYTHON_SCRIPT_DIR/render_ply.py \\\n",
    "            output/render/Endurance_DTM_R3_1_tif.ply \\\n",
    "            90 90 \\\n",
    "            output/render/Endurance_DTM_R3_1_tif.png \\\n",
    "            -height 100 \\\n",
    "            -width 100 \\\n",
    "            -resolution 1"
   ]
  },
  {
   "cell_type": "code",
   "execution_count": null,
   "id": "764bf97d",
   "metadata": {},
   "outputs": [],
   "source": []
  }
 ],
 "metadata": {
  "kernelspec": {
   "display_name": "myenv",
   "language": "python",
   "name": "python3"
  },
  "language_info": {
   "codemirror_mode": {
    "name": "ipython",
    "version": 3
   },
   "file_extension": ".py",
   "mimetype": "text/x-python",
   "name": "python",
   "nbconvert_exporter": "python",
   "pygments_lexer": "ipython3",
   "version": "3.11.11"
  }
 },
 "nbformat": 4,
 "nbformat_minor": 5
}
